{
  "nbformat": 4,
  "nbformat_minor": 0,
  "metadata": {
    "colab": {
      "provenance": [],
      "authorship_tag": "ABX9TyOZtZ6D8zhuF7psfZcvb+Ap",
      "include_colab_link": true
    },
    "kernelspec": {
      "name": "python3",
      "display_name": "Python 3"
    },
    "language_info": {
      "name": "python"
    }
  },
  "cells": [
    {
      "cell_type": "markdown",
      "metadata": {
        "id": "view-in-github",
        "colab_type": "text"
      },
      "source": [
        "<a href=\"https://colab.research.google.com/github/ccchin2/python-learning/blob/main/%E6%9C%9F%E6%9C%AB.ipynb\" target=\"_parent\"><img src=\"https://colab.research.google.com/assets/colab-badge.svg\" alt=\"Open In Colab\"/></a>"
      ]
    },
    {
      "cell_type": "code",
      "source": [
        "import itertools\n",
        "\n",
        "class City:\n",
        "    def __init__(self, name, coordinate, accommodation_cost, discount_from):\n",
        "        self.name = name\n",
        "        self.coordinate = coordinate\n",
        "        self.accommodation_cost = accommodation_cost\n",
        "        self.discount_from = discount_from\n",
        "    \n",
        "    def calculate_discounted_cost(self, prev_city):\n",
        "        if prev_city.name in self.discount_from:\n",
        "            return self.accommodation_cost * 0.2  # 折扣80%\n",
        "        else:\n",
        "            return self.accommodation_cost\n",
        "\n",
        "# 定義城市資訊\n",
        "cities = [\n",
        "    City('A', (0, 0), 2000, ['C', 'G']),\n",
        "    City('B', (0, 120), 2400, ['D', 'E']),\n",
        "    City('C', (30, 100), 2400, ['G', 'A']),\n",
        "    City('D', (80, 0), 1600, ['A', 'B']),\n",
        "    City('E', (45, 10), 1500, ['B', 'F']),\n",
        "    City('F', (90, 160), 2200, ['A', 'C']),\n",
        "    City('G', (120, 200), 1200, ['E', 'F'])\n",
        "]\n",
        "\n",
        "# 計算兩座城市之間的距離（直線距離）\n",
        "def calculate_distance(city1, city2):\n",
        "    x1, y1 = city1.coordinate\n",
        "    x2, y2 = city2.coordinate\n",
        "    return ((x2 - x1)**2 + (y2 - y1)**2) ** 0.5\n",
        "\n",
        "# 計算路徑的總花費\n",
        "def calculate_total_cost(path):\n",
        "    total_cost = 0\n",
        "    prev_city = None\n",
        "    for city in path:\n",
        "        if prev_city is not None:\n",
        "            distance = calculate_distance(prev_city, city)\n",
        "            total_cost += distance * 100  # 油錢\n",
        "            accommodation_cost = city.calculate_discounted_cost(prev_city)\n",
        "            total_cost += accommodation_cost\n",
        "        prev_city = city\n",
        "    return total_cost\n",
        "\n",
        "# 列舉所有可能的路徑\n",
        "def enumerate_paths():\n",
        "    for permutation in itertools.permutations(cities):\n",
        "        yield permutation\n",
        "\n",
        "# 尋找最便宜的路徑\n",
        "cheapest_path = None\n",
        "cheapest_cost = float('inf')\n",
        "\n",
        "for path in enumerate_paths():\n",
        "    total_cost = calculate_total_cost(path)\n",
        "    if total_cost < cheapest_cost:\n",
        "        cheapest_cost = total_cost\n",
        "        cheapest_path = path\n",
        "\n",
        "# 輸出結果\n",
        "path_names = [city.name for city in cheapest_path]\n",
        "print(\"最便宜的路徑：\", \"->\".join(path_names))\n",
        "print(\"總花費：\", cheapest_cost)\n"
      ],
      "metadata": {
        "id": "j2MxrwcHV4Kl",
        "outputId": "1c43a6a2-ceea-4262-f08c-d184783777b0",
        "colab": {
          "base_uri": "https://localhost:8080/"
        }
      },
      "execution_count": null,
      "outputs": [
        {
          "output_type": "stream",
          "name": "stdout",
          "text": [
            "最便宜的路徑： D->E->A->C->B->F->G\n",
            "總花費： 45964.54275945734\n"
          ]
        }
      ]
    }
  ]
}