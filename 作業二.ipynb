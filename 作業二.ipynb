{
  "nbformat": 4,
  "nbformat_minor": 0,
  "metadata": {
    "colab": {
      "provenance": [],
      "authorship_tag": "ABX9TyMrPBkbyHugvbVypXZ1T9jf",
      "include_colab_link": true
    },
    "kernelspec": {
      "name": "python3",
      "display_name": "Python 3"
    },
    "language_info": {
      "name": "python"
    }
  },
  "cells": [
    {
      "cell_type": "markdown",
      "metadata": {
        "id": "view-in-github",
        "colab_type": "text"
      },
      "source": [
        "<a href=\"https://colab.research.google.com/github/ccchin2/python-learning/blob/main/%E4%BD%9C%E6%A5%AD%E4%BA%8C.ipynb\" target=\"_parent\"><img src=\"https://colab.research.google.com/assets/colab-badge.svg\" alt=\"Open In Colab\"/></a>"
      ]
    },
    {
      "cell_type": "code",
      "execution_count": null,
      "metadata": {
        "colab": {
          "base_uri": "https://localhost:8080/"
        },
        "id": "b98a4Cwn9ydD",
        "outputId": "06fcd5d3-46df-4b7f-b404-527d05e34881"
      },
      "outputs": [
        {
          "output_type": "stream",
          "name": "stdout",
          "text": [
            "大道之行也，天下為公。選賢與能，講信修睦。故人不獨親其親，不獨子其子；使老有所終，壯有所用，幼有所長，矜寡孤獨廢疾者，皆有所養；男有分女有歸。貨惡其棄於地也不必藏於己；力惡其不出於身也不必為己。是故謀閉而不興，盜竊亂賊而不作，故外戶而不閉，是謂「大同」。\n",
            "127\n"
          ]
        }
      ],
      "source": [
        "demo = \"大道之行也， 天下為公。選 賢與能， 講信修睦。故人不獨親其親 ，不獨子其子；使 老有所終，壯有所用，幼有 所長，矜寡孤獨廢疾者，皆有所養；男有 分女有歸。貨惡其棄 於地也不必藏於己；力惡其不出 於身也不必為己。是故謀 閉而不興，盜竊 亂賊而不作，故外戶而 不閉，是謂「大同」。\"\n",
        "s=demo.replace(\" \", \"\")\n",
        "print(s)\n",
        "print(len(s))"
      ]
    },
    {
      "cell_type": "code",
      "source": [
        "demo = \"大道之行也， 天下為公。選 賢與能， 講信修睦。故人不獨親其親 ，不獨子其子；使 老有所終，壯有所用，幼有 所長，矜寡孤獨廢疾者，皆有所養；男有 分女有歸。貨惡其棄 於地也不必藏於己；力惡其不出 於身也不必為己。是故謀 閉而不興，盜竊 亂賊而不作，故外戶而 不閉，是謂「大同」。\"\n",
        "s=demo.replace(\" \", \"\")\n",
        "print(s)\n",
        "print(len(s))\n",
        "a=s\n",
        "arr = a.split('， ,。 ,； ')\n",
        "print(arr)"
      ],
      "metadata": {
        "id": "kT-9HmjnA4_Q",
        "colab": {
          "base_uri": "https://localhost:8080/"
        },
        "outputId": "d999169a-2bf2-459b-ce6d-be129167edcf"
      },
      "execution_count": null,
      "outputs": [
        {
          "output_type": "stream",
          "name": "stdout",
          "text": [
            "大道之行也，天下為公。選賢與能，講信修睦。故人不獨親其親，不獨子其子；使老有所終，壯有所用，幼有所長，矜寡孤獨廢疾者，皆有所養；男有分女有歸。貨惡其棄於地也不必藏於己；力惡其不出於身也不必為己。是故謀閉而不興，盜竊亂賊而不作，故外戶而不閉，是謂「大同」。\n",
            "127\n",
            "['大道之行也，天下為公。選賢與能，講信修睦。故人不獨親其親，不獨子其子；使老有所終，壯有所用，幼有所長，矜寡孤獨廢疾者，皆有所養；男有分女有歸。貨惡其棄於地也不必藏於己；力惡其不出於身也不必為己。是故謀閉而不興，盜竊亂賊而不作，故外戶而不閉，是謂「大同」。']\n"
          ]
        }
      ]
    },
    {
      "cell_type": "code",
      "source": [
        "demo = \"大道之行也， 天下為公。選 賢與能， 講信修睦。故人不獨親其親 ，不獨子其子；使 老有所終，壯有所用，幼有 所長，矜寡孤獨廢疾者，皆有所養；男有 分女有歸。貨惡其棄 於地也不必藏於己；力惡其不出 於身也不必為己。是故謀 閉而不興，盜竊 亂賊而不作，故外戶而 不閉，是謂「大同」。\"\n",
        "s=demo.replace(\" \", \"\")\n",
        "print(s)\n",
        "\n",
        "C =s\n",
        "print(s.count('不'))"
      ],
      "metadata": {
        "colab": {
          "base_uri": "https://localhost:8080/"
        },
        "id": "zJ5YQmn_K6uZ",
        "outputId": "2b6be505-a85d-4b39-e009-6169247e6ac0"
      },
      "execution_count": null,
      "outputs": [
        {
          "output_type": "stream",
          "name": "stdout",
          "text": [
            "大道之行也，天下為公。選賢與能，講信修睦。故人不獨親其親，不獨子其子；使老有所終，壯有所用，幼有所長，矜寡孤獨廢疾者，皆有所養；男有分女有歸。貨惡其棄於地也不必藏於己；力惡其不出於身也不必為己。是故謀閉而不興，盜竊亂賊而不作，故外戶而不閉，是謂「大同」。\n",
            "8\n"
          ]
        }
      ]
    },
    {
      "cell_type": "markdown",
      "source": [],
      "metadata": {
        "id": "0uWvx6tzA4nk"
      }
    }
  ]
}